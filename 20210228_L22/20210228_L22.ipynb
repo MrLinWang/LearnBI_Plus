{
 "cells": [
  {
   "cell_type": "markdown",
   "metadata": {},
   "source": [
    "# 导师制名企实训班商业智能方向 004期 Lesson 22"
   ]
  },
  {
   "cell_type": "markdown",
   "metadata": {},
   "source": [
    "### Thinking 1:机器学习中的监督学习、非监督学习、强化学习有何区别"
   ]
  },
  {
   "cell_type": "markdown",
   "metadata": {},
   "source": [
    "* 监督学习（Supervised learning）：\n",
    "监督学习即具有特征（feature）和标签（label）的，即使数据是没有标签的，也可以通过学习特征和标签之间的关系，判断出标签——分类。  \n",
    "简言之：提供数据，预测标签。比如对动物猫和狗的图片进行预测，预测label为cat或者dog。  \n",
    "通过已有的一部分输入数据与输出数据之间的对应关系，生成一个函数，将输入映射到合适的输出，例如分类。  \n",
    "如分类和回归问题\n",
    "* 无监督学习（Unsupervised learning）：\n",
    "无监督学习即只有特征，没有标签，只有特征，没有标签的训练数据集中，通过数据之间的内在联系和相似性将他们分成若干类——聚类。根据数据本身的特性，从数据中根据某种度量学习出一些特性。  \n",
    "比如一个人没有见过恐龙和鲨鱼，如果给他看了大量的恐龙和鲨鱼，虽然他没有恐龙和鲨鱼的概念，但是他能够观察出每个物种的共性和两个物种间的区别的，并对这两种动物予以区分。  \n",
    "从数据中，寻找隐藏的关系。\n",
    "* 半监督学习（Semi-Supervised learning）：\n",
    "半监督学习使用的数据，一部分是标记过的，而大部分是没有标记的，和监督学习相比较，半监督学习的成本较低，但是又能达到较高的准确度，即综合利用有类标的和没有类标的数据，来生成合适的分类函数。  \n",
    "用少部分标记数据和大部分未知数据进行学习  \n",
    "* 强化学习（Reinforcement learning）：  \n",
    "强化学习与半监督学习类似，均使用未标记的数据，但是强化学习通过算法学习是否距离目标越来越近，通过不断激励与惩罚，达到最终目的。  \n",
    "\n",
    "\n",
    "监督学习有反馈，无监督学习无反馈，强化学习是执行多步之后才反馈。\n",
    "强化学习的目标与监督学习的目标不一样，即强化学习看重的是行为序列下的长期收益，而监督学习往往关注的是和标签或已知输出的误差。  \n",
    "强化学习的奖惩概念是没有正确或错误之分的，而监督学习标签就是正确的，并且强化学习是一个学习+决策的过程，有和环境交互的能力（交互的结果以惩罚的形式返回），而监督学习不具备。"
   ]
  },
  {
   "cell_type": "markdown",
   "metadata": {},
   "source": [
    "### Thinking 2: 什么是策略网络，价值网络，有何区别"
   ]
  },
  {
   "cell_type": "markdown",
   "metadata": {},
   "source": [
    "所谓价值网络，是用一个“价值”数来评估当前的棋局。如果我们把棋局上所有棋子的位置总和称为一个“状态”，每个状态可能允许若干不同的后续状态。所有可能状态的前后次序关系就构成了所谓的搜索树。一个暴力的搜索算法会遍历这个搜索树的每一个子树。但是，其实有些状态是较容易判断输赢的，也就是评估其“价值”。我们把这些状态用价值表示，就可以据此省略了对它所有后续状态的探索，即利用价值网络削减搜索深度。  \n",
    "所谓策略，是指在给定棋局，评估每一种应对可能的胜率，从而根据当前盘面状态来选择走棋策略。在数学上，就是估计一个在各个合法位置上下子获胜的可能的概率分布。因为有些下法的获胜概率很低，可忽略，所以用策略评估就可以消减搜索树的宽度。   \n",
    "所谓“价值”就是能看懂棋局，一眼就能判断某给定棋局是不是能赢，这是个偏宏观的评估。所谓的“策略”，是指在每一步博弈时，各种选择的取舍，这是个偏微观的评估。AlphaGo利用模拟棋手、强化自我的方法，在宏观（价值评估）和微观（策略评估）两个方面提高了探索的效率。"
   ]
  },
  {
   "cell_type": "markdown",
   "metadata": {},
   "source": [
    "### Thinking 3: 请简述MCTS（蒙特卡洛树搜索）的原理，4个步骤Select, Expansion，Simluation，Backpropagation是如何操作的"
   ]
  },
  {
   "cell_type": "markdown",
   "metadata": {},
   "source": [
    "MCTS蒙特卡洛树搜索原理，蒙特卡洛通过多次模拟仿真，预测出最佳策略。搜索是对整棵博弈树的组合遍历，单次的遍历是从根结点开始，到一个未完全展开的节点(a node that is not full expanded)。未完全展开的意思就是它至少有一个孩子节点未被访问，或者称作未被探索过。当遇到未被完全展开过的节点，选择它的一个未被访问的childre node做根结点，进行一次模拟(a single playout/simulation)。仿真的结果反向传播(propagated back)用于更新当前树的根结点,并更新博弈树节点的统计信息。当整棵博弈树搜索结束后，就相当于拿到了这颗博弈树的策略。  \n",
    "分为四个步骤：\n",
    "1. 选择（Select）：从根节点开始，按一定策略，搜索到叶子节点。\n",
    "2. 扩展（Expansion）：对叶子节点扩展一个或多个合法的子节点。\n",
    "3. 模拟（Simluation）：对子节点采用随机的（即称为蒙特卡洛的缘由）方式模拟若干次实验。模拟到最终状态时即可得到当前模拟器所得的分。\n",
    "4. 结果回传（Backpropagation）：根据子节点若干次模拟的得分，更新当前子节点的模拟次数与得分值。同时将模拟次数与得分值回传到其所有祖先节点并更新祖先节点"
   ]
  },
  {
   "cell_type": "markdown",
   "metadata": {},
   "source": [
    "### Thinking4: 假设你是抖音的技术负责人，强化学习在信息流推荐中会有怎样的作用，如果要进行使用强化学习，都有哪些要素需要考虑"
   ]
  },
  {
   "cell_type": "markdown",
   "metadata": {},
   "source": [
    "强化学习可以通过与用户不断交互的过程中学习用户兴趣，给用户推荐用户需要的信息。使用强化学习需要考虑如何设置reward，要综合考虑用户看视频的时长、点赞、评论等等反馈。"
   ]
  },
  {
   "cell_type": "markdown",
   "metadata": {},
   "source": [
    "### Thinking5: 在自动驾驶中，如何使用强化学习进行训练，请说明简要的思路"
   ]
  },
  {
   "cell_type": "markdown",
   "metadata": {},
   "source": [
    "在自动驾驶中，使用摄像头等传感器接收的数据作为输入的状态特征，前进、后退、左转右转等作为动作，正常运行的时长等作为反馈。"
   ]
  },
  {
   "cell_type": "markdown",
   "metadata": {},
   "source": [
    "### Action \n",
    "Action（五子棋）：  \n",
    "棋盘大小 10 * 10  \n",
    "采用强化学习（策略价值网络），用AI训练五子棋AI  \n",
    "请说明都有哪些模块，不同模块的原理  \n"
   ]
  },
  {
   "cell_type": "markdown",
   "metadata": {},
   "source": [
    "1. 五子棋游戏模块：实现五子棋游戏的规则，获取下子的位置，返回当前棋盘状态，当前下子方，是否有人胜利。\n",
    "2. Alpha Zero蒙特卡洛模块：实现AlphaGo Zero的蒙特卡罗树搜索，使用策略网络来指导树搜索并计算叶节点\n",
    "3. 蒙特卡洛搜索模块：实现了蒙特卡洛树搜索 MCTS\n",
    "4. 策略价值网络模块：实现策略价值网络，指导蒙特卡洛搜索计算叶子节点\n",
    "5. 训练模块：在五子棋上训练AI\n",
    "5. 人机共奕模块：实现人与AI下棋"
   ]
  },
  {
   "cell_type": "markdown",
   "metadata": {},
   "source": [
    "#### 查看GPU情况"
   ]
  },
  {
   "cell_type": "code",
   "execution_count": 1,
   "metadata": {},
   "outputs": [
    {
     "name": "stdout",
     "output_type": "stream",
     "text": [
      "True\n",
      "cuda:0\n",
      "GeForce RTX 3090\n",
      "tensor([[0.9541, 0.2290, 0.7211],\n",
      "        [0.4523, 0.9255, 0.2270],\n",
      "        [0.4770, 0.4821, 0.2564]], device='cuda:0')\n"
     ]
    }
   ],
   "source": [
    "import torch\n",
    "flag = torch.cuda.is_available()\n",
    "print(flag)\n",
    "\n",
    "ngpu= 1\n",
    "# Decide which device we want to run on\n",
    "device = torch.device(\"cuda:0\" if (torch.cuda.is_available() and ngpu > 0) else \"cpu\")\n",
    "print(device)\n",
    "print(torch.cuda.get_device_name(0))\n",
    "print(torch.rand(3,3).cuda()) "
   ]
  },
  {
   "cell_type": "markdown",
   "metadata": {},
   "source": [
    "### 训练"
   ]
  },
  {
   "cell_type": "code",
   "execution_count": 2,
   "metadata": {},
   "outputs": [],
   "source": [
    "from train import TrainPipeline"
   ]
  },
  {
   "cell_type": "code",
   "execution_count": 3,
   "metadata": {},
   "outputs": [],
   "source": [
    "# training_pipeline = TrainPipeline()\n",
    "# training_pipeline.run()"
   ]
  },
  {
   "cell_type": "markdown",
   "metadata": {},
   "source": [
    "### 人机对弈"
   ]
  },
  {
   "cell_type": "code",
   "execution_count": 4,
   "metadata": {},
   "outputs": [],
   "source": [
    "from human_play import run"
   ]
  },
  {
   "cell_type": "code",
   "execution_count": 5,
   "metadata": {},
   "outputs": [
    {
     "name": "stdout",
     "output_type": "stream",
     "text": [
      "Player 1 with X\n",
      "Player 2 with O\n",
      "\n",
      "       0       1       2       3       4       5       6       7       8       9\n",
      "\n",
      "   9   _       _       _       _       _       _       _       _       _       _    \n",
      "\n",
      "\n",
      "   8   _       _       _       _       _       _       _       _       _       _    \n",
      "\n",
      "\n",
      "   7   _       _       _       _       _       _       _       _       _       _    \n",
      "\n",
      "\n",
      "   6   _       _       _       _       _       _       _       _       _       _    \n",
      "\n",
      "\n",
      "   5   _       _       _       _       _       _       _       _       _       _    \n",
      "\n",
      "\n",
      "   4   _       _       _       _       _       _       _       _       _       _    \n",
      "\n",
      "\n",
      "   3   _       _       _       _       _       _       _       _       _       _    \n",
      "\n",
      "\n",
      "   2   _       _       _       _       _       _       _       _       _       _    \n",
      "\n",
      "\n",
      "   1   _       _       _       _       _       _       _       _       _       _    \n",
      "\n",
      "\n",
      "   0   _       _       _       _       _       _       _       _       _       _    \n",
      "\n",
      "\n"
     ]
    },
    {
     "name": "stderr",
     "output_type": "stream",
     "text": [
      "/home/wll/20210228_L22/policy_value_net_pytorch.py:45: UserWarning: Implicit dimension choice for log_softmax has been deprecated. Change the call to include dim=X as an argument.\n",
      "  x_act = F.log_softmax(self.act_fc1(x_act))\n",
      "/home/wll/anaconda3/envs/torch/lib/python3.6/site-packages/torch/nn/functional.py:1628: UserWarning: nn.functional.tanh is deprecated. Use torch.tanh instead.\n",
      "  warnings.warn(\"nn.functional.tanh is deprecated. Use torch.tanh instead.\")\n"
     ]
    },
    {
     "name": "stdout",
     "output_type": "stream",
     "text": [
      "Player 1 with X\n",
      "Player 2 with O\n",
      "\n",
      "       0       1       2       3       4       5       6       7       8       9\n",
      "\n",
      "   9   _       _       _       _       _       _       _       _       _       _    \n",
      "\n",
      "\n",
      "   8   _       _       _       _       _       _       _       _       _       _    \n",
      "\n",
      "\n",
      "   7   _       _       _       _       _       _       _       _       _       _    \n",
      "\n",
      "\n",
      "   6   _       _       _       _       _       _       _       _       _       _    \n",
      "\n",
      "\n",
      "   5   _       _       _       _       _       _       _       _       _       _    \n",
      "\n",
      "\n",
      "   4   _       _       _       _       _       O       _       _       _       _    \n",
      "\n",
      "\n",
      "   3   _       _       _       _       _       _       _       _       _       _    \n",
      "\n",
      "\n",
      "   2   _       _       _       _       _       _       _       _       _       _    \n",
      "\n",
      "\n",
      "   1   _       _       _       _       _       _       _       _       _       _    \n",
      "\n",
      "\n",
      "   0   _       _       _       _       _       _       _       _       _       _    \n",
      "\n",
      "\n"
     ]
    },
    {
     "name": "stdin",
     "output_type": "stream",
     "text": [
      "输入你下棋的位置 x,y:  4,5\n"
     ]
    },
    {
     "name": "stdout",
     "output_type": "stream",
     "text": [
      "4,5\n",
      "输入位置非法\n"
     ]
    },
    {
     "name": "stdin",
     "output_type": "stream",
     "text": [
      "输入你下棋的位置 x,y:  5,4\n"
     ]
    },
    {
     "name": "stdout",
     "output_type": "stream",
     "text": [
      "5,4\n",
      "Player 1 with X\n",
      "Player 2 with O\n",
      "\n",
      "       0       1       2       3       4       5       6       7       8       9\n",
      "\n",
      "   9   _       _       _       _       _       _       _       _       _       _    \n",
      "\n",
      "\n",
      "   8   _       _       _       _       _       _       _       _       _       _    \n",
      "\n",
      "\n",
      "   7   _       _       _       _       _       _       _       _       _       _    \n",
      "\n",
      "\n",
      "   6   _       _       _       _       _       _       _       _       _       _    \n",
      "\n",
      "\n",
      "   5   _       _       _       _       X       _       _       _       _       _    \n",
      "\n",
      "\n",
      "   4   _       _       _       _       _       O       _       _       _       _    \n",
      "\n",
      "\n",
      "   3   _       _       _       _       _       _       _       _       _       _    \n",
      "\n",
      "\n",
      "   2   _       _       _       _       _       _       _       _       _       _    \n",
      "\n",
      "\n",
      "   1   _       _       _       _       _       _       _       _       _       _    \n",
      "\n",
      "\n",
      "   0   _       _       _       _       _       _       _       _       _       _    \n",
      "\n",
      "\n",
      "Player 1 with X\n",
      "Player 2 with O\n",
      "\n",
      "       0       1       2       3       4       5       6       7       8       9\n",
      "\n",
      "   9   _       _       _       _       _       _       _       _       _       _    \n",
      "\n",
      "\n",
      "   8   _       _       _       _       _       _       _       _       _       _    \n",
      "\n",
      "\n",
      "   7   _       _       _       _       _       _       _       _       _       _    \n",
      "\n",
      "\n",
      "   6   _       _       _       _       _       _       _       _       _       _    \n",
      "\n",
      "\n",
      "   5   _       _       _       _       X       _       _       _       _       _    \n",
      "\n",
      "\n",
      "   4   _       _       _       _       _       O       _       _       _       _    \n",
      "\n",
      "\n",
      "   3   _       _       _       _       _       _       O       _       _       _    \n",
      "\n",
      "\n",
      "   2   _       _       _       _       _       _       _       _       _       _    \n",
      "\n",
      "\n",
      "   1   _       _       _       _       _       _       _       _       _       _    \n",
      "\n",
      "\n",
      "   0   _       _       _       _       _       _       _       _       _       _    \n",
      "\n",
      "\n"
     ]
    },
    {
     "name": "stdin",
     "output_type": "stream",
     "text": [
      "输入你下棋的位置 x,y:  2,7\n"
     ]
    },
    {
     "name": "stdout",
     "output_type": "stream",
     "text": [
      "2,7\n",
      "Player 1 with X\n",
      "Player 2 with O\n",
      "\n",
      "       0       1       2       3       4       5       6       7       8       9\n",
      "\n",
      "   9   _       _       _       _       _       _       _       _       _       _    \n",
      "\n",
      "\n",
      "   8   _       _       _       _       _       _       _       _       _       _    \n",
      "\n",
      "\n",
      "   7   _       _       _       _       _       _       _       _       _       _    \n",
      "\n",
      "\n",
      "   6   _       _       _       _       _       _       _       _       _       _    \n",
      "\n",
      "\n",
      "   5   _       _       _       _       X       _       _       _       _       _    \n",
      "\n",
      "\n",
      "   4   _       _       _       _       _       O       _       _       _       _    \n",
      "\n",
      "\n",
      "   3   _       _       _       _       _       _       O       _       _       _    \n",
      "\n",
      "\n",
      "   2   _       _       _       _       _       _       _       X       _       _    \n",
      "\n",
      "\n",
      "   1   _       _       _       _       _       _       _       _       _       _    \n",
      "\n",
      "\n",
      "   0   _       _       _       _       _       _       _       _       _       _    \n",
      "\n",
      "\n",
      "Player 1 with X\n",
      "Player 2 with O\n",
      "\n",
      "       0       1       2       3       4       5       6       7       8       9\n",
      "\n",
      "   9   _       _       _       _       _       _       _       _       _       _    \n",
      "\n",
      "\n",
      "   8   _       _       _       _       _       _       _       _       _       _    \n",
      "\n",
      "\n",
      "   7   _       _       _       _       _       _       _       _       _       _    \n",
      "\n",
      "\n",
      "   6   _       _       _       O       _       _       _       _       _       _    \n",
      "\n",
      "\n",
      "   5   _       _       _       _       X       _       _       _       _       _    \n",
      "\n",
      "\n",
      "   4   _       _       _       _       _       O       _       _       _       _    \n",
      "\n",
      "\n",
      "   3   _       _       _       _       _       _       O       _       _       _    \n",
      "\n",
      "\n",
      "   2   _       _       _       _       _       _       _       X       _       _    \n",
      "\n",
      "\n",
      "   1   _       _       _       _       _       _       _       _       _       _    \n",
      "\n",
      "\n",
      "   0   _       _       _       _       _       _       _       _       _       _    \n",
      "\n",
      "\n"
     ]
    },
    {
     "name": "stdin",
     "output_type": "stream",
     "text": [
      "输入你下棋的位置 x,y:  5,5\n"
     ]
    },
    {
     "name": "stdout",
     "output_type": "stream",
     "text": [
      "5,5\n",
      "Player 1 with X\n",
      "Player 2 with O\n",
      "\n",
      "       0       1       2       3       4       5       6       7       8       9\n",
      "\n",
      "   9   _       _       _       _       _       _       _       _       _       _    \n",
      "\n",
      "\n",
      "   8   _       _       _       _       _       _       _       _       _       _    \n",
      "\n",
      "\n",
      "   7   _       _       _       _       _       _       _       _       _       _    \n",
      "\n",
      "\n",
      "   6   _       _       _       O       _       _       _       _       _       _    \n",
      "\n",
      "\n",
      "   5   _       _       _       _       X       X       _       _       _       _    \n",
      "\n",
      "\n",
      "   4   _       _       _       _       _       O       _       _       _       _    \n",
      "\n",
      "\n",
      "   3   _       _       _       _       _       _       O       _       _       _    \n",
      "\n",
      "\n",
      "   2   _       _       _       _       _       _       _       X       _       _    \n",
      "\n",
      "\n",
      "   1   _       _       _       _       _       _       _       _       _       _    \n",
      "\n",
      "\n",
      "   0   _       _       _       _       _       _       _       _       _       _    \n",
      "\n",
      "\n",
      "Player 1 with X\n",
      "Player 2 with O\n",
      "\n",
      "       0       1       2       3       4       5       6       7       8       9\n",
      "\n",
      "   9   _       _       _       _       _       _       _       _       _       _    \n",
      "\n",
      "\n",
      "   8   _       _       _       _       _       _       _       _       _       _    \n",
      "\n",
      "\n",
      "   7   _       _       O       _       _       _       _       _       _       _    \n",
      "\n",
      "\n",
      "   6   _       _       _       O       _       _       _       _       _       _    \n",
      "\n",
      "\n",
      "   5   _       _       _       _       X       X       _       _       _       _    \n",
      "\n",
      "\n",
      "   4   _       _       _       _       _       O       _       _       _       _    \n",
      "\n",
      "\n",
      "   3   _       _       _       _       _       _       O       _       _       _    \n",
      "\n",
      "\n",
      "   2   _       _       _       _       _       _       _       X       _       _    \n",
      "\n",
      "\n",
      "   1   _       _       _       _       _       _       _       _       _       _    \n",
      "\n",
      "\n",
      "   0   _       _       _       _       _       _       _       _       _       _    \n",
      "\n",
      "\n"
     ]
    },
    {
     "name": "stdin",
     "output_type": "stream",
     "text": [
      "输入你下棋的位置 x,y:  5,6\n"
     ]
    },
    {
     "name": "stdout",
     "output_type": "stream",
     "text": [
      "5,6\n",
      "Player 1 with X\n",
      "Player 2 with O\n",
      "\n",
      "       0       1       2       3       4       5       6       7       8       9\n",
      "\n",
      "   9   _       _       _       _       _       _       _       _       _       _    \n",
      "\n",
      "\n",
      "   8   _       _       _       _       _       _       _       _       _       _    \n",
      "\n",
      "\n",
      "   7   _       _       O       _       _       _       _       _       _       _    \n",
      "\n",
      "\n",
      "   6   _       _       _       O       _       _       _       _       _       _    \n",
      "\n",
      "\n",
      "   5   _       _       _       _       X       X       X       _       _       _    \n",
      "\n",
      "\n",
      "   4   _       _       _       _       _       O       _       _       _       _    \n",
      "\n",
      "\n",
      "   3   _       _       _       _       _       _       O       _       _       _    \n",
      "\n",
      "\n",
      "   2   _       _       _       _       _       _       _       X       _       _    \n",
      "\n",
      "\n",
      "   1   _       _       _       _       _       _       _       _       _       _    \n",
      "\n",
      "\n",
      "   0   _       _       _       _       _       _       _       _       _       _    \n",
      "\n",
      "\n",
      "Player 1 with X\n",
      "Player 2 with O\n",
      "\n",
      "       0       1       2       3       4       5       6       7       8       9\n",
      "\n",
      "   9   _       _       _       _       _       _       _       _       _       _    \n",
      "\n",
      "\n",
      "   8   _       O       _       _       _       _       _       _       _       _    \n",
      "\n",
      "\n",
      "   7   _       _       O       _       _       _       _       _       _       _    \n",
      "\n",
      "\n",
      "   6   _       _       _       O       _       _       _       _       _       _    \n",
      "\n",
      "\n",
      "   5   _       _       _       _       X       X       X       _       _       _    \n",
      "\n",
      "\n",
      "   4   _       _       _       _       _       O       _       _       _       _    \n",
      "\n",
      "\n",
      "   3   _       _       _       _       _       _       O       _       _       _    \n",
      "\n",
      "\n",
      "   2   _       _       _       _       _       _       _       X       _       _    \n",
      "\n",
      "\n",
      "   1   _       _       _       _       _       _       _       _       _       _    \n",
      "\n",
      "\n",
      "   0   _       _       _       _       _       _       _       _       _       _    \n",
      "\n",
      "\n"
     ]
    },
    {
     "name": "stdin",
     "output_type": "stream",
     "text": [
      "输入你下棋的位置 x,y:  5,7\n"
     ]
    },
    {
     "name": "stdout",
     "output_type": "stream",
     "text": [
      "5,7\n",
      "Player 1 with X\n",
      "Player 2 with O\n",
      "\n",
      "       0       1       2       3       4       5       6       7       8       9\n",
      "\n",
      "   9   _       _       _       _       _       _       _       _       _       _    \n",
      "\n",
      "\n",
      "   8   _       O       _       _       _       _       _       _       _       _    \n",
      "\n",
      "\n",
      "   7   _       _       O       _       _       _       _       _       _       _    \n",
      "\n",
      "\n",
      "   6   _       _       _       O       _       _       _       _       _       _    \n",
      "\n",
      "\n",
      "   5   _       _       _       _       X       X       X       X       _       _    \n",
      "\n",
      "\n",
      "   4   _       _       _       _       _       O       _       _       _       _    \n",
      "\n",
      "\n",
      "   3   _       _       _       _       _       _       O       _       _       _    \n",
      "\n",
      "\n",
      "   2   _       _       _       _       _       _       _       X       _       _    \n",
      "\n",
      "\n",
      "   1   _       _       _       _       _       _       _       _       _       _    \n",
      "\n",
      "\n",
      "   0   _       _       _       _       _       _       _       _       _       _    \n",
      "\n",
      "\n",
      "Player 1 with X\n",
      "Player 2 with O\n",
      "\n",
      "       0       1       2       3       4       5       6       7       8       9\n",
      "\n",
      "   9   _       _       _       _       _       _       _       _       _       _    \n",
      "\n",
      "\n",
      "   8   _       O       _       _       _       _       _       _       _       _    \n",
      "\n",
      "\n",
      "   7   _       _       O       _       _       _       _       _       _       _    \n",
      "\n",
      "\n",
      "   6   _       _       _       O       _       _       _       _       _       _    \n",
      "\n",
      "\n",
      "   5   _       _       _       _       X       X       X       X       O       _    \n",
      "\n",
      "\n",
      "   4   _       _       _       _       _       O       _       _       _       _    \n",
      "\n",
      "\n",
      "   3   _       _       _       _       _       _       O       _       _       _    \n",
      "\n",
      "\n",
      "   2   _       _       _       _       _       _       _       X       _       _    \n",
      "\n",
      "\n",
      "   1   _       _       _       _       _       _       _       _       _       _    \n",
      "\n",
      "\n",
      "   0   _       _       _       _       _       _       _       _       _       _    \n",
      "\n",
      "\n"
     ]
    },
    {
     "name": "stdin",
     "output_type": "stream",
     "text": [
      "输入你下棋的位置 x,y:  5,3\n"
     ]
    },
    {
     "name": "stdout",
     "output_type": "stream",
     "text": [
      "5,3\n",
      "Player 1 with X\n",
      "Player 2 with O\n",
      "\n",
      "       0       1       2       3       4       5       6       7       8       9\n",
      "\n",
      "   9   _       _       _       _       _       _       _       _       _       _    \n",
      "\n",
      "\n",
      "   8   _       O       _       _       _       _       _       _       _       _    \n",
      "\n",
      "\n",
      "   7   _       _       O       _       _       _       _       _       _       _    \n",
      "\n",
      "\n",
      "   6   _       _       _       O       _       _       _       _       _       _    \n",
      "\n",
      "\n",
      "   5   _       _       _       X       X       X       X       X       O       _    \n",
      "\n",
      "\n",
      "   4   _       _       _       _       _       O       _       _       _       _    \n",
      "\n",
      "\n",
      "   3   _       _       _       _       _       _       O       _       _       _    \n",
      "\n",
      "\n",
      "   2   _       _       _       _       _       _       _       X       _       _    \n",
      "\n",
      "\n",
      "   1   _       _       _       _       _       _       _       _       _       _    \n",
      "\n",
      "\n",
      "   0   _       _       _       _       _       _       _       _       _       _    \n",
      "\n",
      "\n",
      "游戏结束，获胜方为  Human 1\n"
     ]
    }
   ],
   "source": [
    "run()"
   ]
  },
  {
   "cell_type": "code",
   "execution_count": null,
   "metadata": {},
   "outputs": [],
   "source": []
  }
 ],
 "metadata": {
  "kernelspec": {
   "display_name": "torch",
   "language": "python",
   "name": "torch"
  },
  "language_info": {
   "codemirror_mode": {
    "name": "ipython",
    "version": 3
   },
   "file_extension": ".py",
   "mimetype": "text/x-python",
   "name": "python",
   "nbconvert_exporter": "python",
   "pygments_lexer": "ipython3",
   "version": "3.6.12"
  }
 },
 "nbformat": 4,
 "nbformat_minor": 5
}
